{
 "cells": [
  {
   "cell_type": "code",
   "execution_count": 59,
   "metadata": {},
   "outputs": [],
   "source": [
    "#data source SEC Registered Investment Advisor Report for 2019\n",
    "\n",
    "\n",
    "#The dataset is supplied via RIA Firms reponses to the SEC's survey found at:\n",
    "#https://www.sec.gov/about/forms/formadv-part1a.pdf  (This is how the key is deciphered and columns are named appropiately) \n",
    "\n",
    "\n",
    "\n",
    "\n",
    "#import dependencies\n",
    "\n",
    "import numpy as np\n",
    "import pandas as pd\n",
    "import matplotlib.pyplot as plt\n",
    "import requests\n",
    "import gmaps\n",
    "\n",
    "\n",
    "\n",
    "#import API Keys\n",
    "from config import api_key\n",
    "from config import gkey\n",
    "\n",
    "# Dependencies\n",
    "import json\n",
    "\n",
    "# Google API Key\n",
    "from config import gkey\n",
    "\n",
    "#set census wrapper & gmaps settings\n",
    "\n",
    "gmaps.configure(api_key = gkey)\n",
    "\n",
    "#Columns to calculate \n",
    "#’Total AUM’ (SUM of 5D(a)(3)-5D(n)(3))\n",
    "#’State Rank’ (Total AUM ranked by state)\n",
    "#‘National Rank’ (Total AUM ranked nationally)\n",
    "#‘Financial planning services and a trust company’ (If columns ‘6A(1) and ‘7A(9)’ true"
   ]
  },
  {
   "cell_type": "code",
   "execution_count": 60,
   "metadata": {},
   "outputs": [],
   "source": [
    "pd.set_option('display.max_columns', 262)"
   ]
  },
  {
   "cell_type": "code",
   "execution_count": 61,
   "metadata": {},
   "outputs": [],
   "source": [
    "data = pd.read_excel(\"Data/SEC Registered Investment Adviser Report 2019-2-1.xlsx\")"
   ]
  },
  {
   "cell_type": "code",
   "execution_count": 62,
   "metadata": {},
   "outputs": [],
   "source": [
    "#data"
   ]
  },
  {
   "cell_type": "code",
   "execution_count": 63,
   "metadata": {},
   "outputs": [],
   "source": [
    "data['5D(a)(3)'].fillna(0, inplace=True) \n",
    "data['5D(b)(3)'].fillna(0, inplace=True) \n",
    "data['5D(c)(3)'].fillna(0, inplace=True) \n",
    "data['5D(d)(3)'].fillna(0, inplace=True) \n",
    "data['5D(e)(3)'].fillna(0, inplace=True) \n",
    "data['5D(f)(3)'].fillna(0, inplace=True) \n",
    "data['5D(g)(3)'].fillna(0, inplace=True) \n",
    "data['5D(h)(3)'].fillna(0, inplace=True) \n",
    "data['5D(i)(3)'].fillna(0, inplace=True) \n",
    "data['5D(j)(3)'].fillna(0, inplace=True)\n",
    "data['5D(k)(3)'].fillna(0, inplace=True) \n",
    "data['5D(l)(3)'].fillna(0, inplace=True)    \n",
    "data['5D(m)(3)'].fillna(0, inplace=True) \n",
    "data['5D(n)(3)'].fillna(0, inplace=True) "
   ]
  },
  {
   "cell_type": "code",
   "execution_count": 64,
   "metadata": {},
   "outputs": [],
   "source": [
    "aums = data[['5D(a)(3)','5D(b)(3)',\n",
    "             '5D(c)(3)','5D(d)(3)',\n",
    "             '5D(e)(3)','5D(f)(3)',\n",
    "             '5D(g)(3)','5D(h)(3)',\n",
    "             '5D(i)(3)','5D(j)(3)',\n",
    "             '5D(k)(3)','5D(l)(3)',\n",
    "             '5D(m)(3)','5D(n)(3)']] "
   ]
  },
  {
   "cell_type": "code",
   "execution_count": null,
   "metadata": {},
   "outputs": [],
   "source": []
  },
  {
   "cell_type": "code",
   "execution_count": 65,
   "metadata": {},
   "outputs": [],
   "source": [
    "#aums"
   ]
  },
  {
   "cell_type": "code",
   "execution_count": 66,
   "metadata": {},
   "outputs": [],
   "source": [
    "data['Total AUM'] = aums.select_dtypes(float).sum(1)"
   ]
  },
  {
   "cell_type": "code",
   "execution_count": 67,
   "metadata": {},
   "outputs": [],
   "source": [
    "#data.loc[data['Main Office State'] == 'CO']"
   ]
  },
  {
   "cell_type": "code",
   "execution_count": 68,
   "metadata": {},
   "outputs": [],
   "source": [
    "#data.dtypes"
   ]
  },
  {
   "cell_type": "code",
   "execution_count": 69,
   "metadata": {},
   "outputs": [],
   "source": [
    "skimmed_columns = data[['Primary Business Name', \n",
    "                        'Legal Name', \n",
    "                        'Main Office Street Address 1', \n",
    "                        'Main Office Street Address 2',\n",
    "                        'Main Office City',\n",
    "                        'Main Office State',\n",
    "                        'Main Office Country',\n",
    "                        'Total number of offices, other than your Principal Office and place of business',\n",
    "                        'Website Address',\n",
    "                        '1O', \n",
    "                        '2A(1)',\n",
    "                        '3A',\n",
    "                        '5A',\n",
    "                        '5B(1)',\n",
    "                        '5B(2)',\n",
    "                        '5B(5)',\n",
    "                        '5B(6)',\n",
    "                        '5D(a)(1)',\n",
    "                        '5D(a)(2)',\n",
    "                        '5D(a)(3)',\n",
    "                        '5D(b)(1)',\n",
    "                        '5D(b)(2)',\n",
    "                        '5D(b)(3)',\n",
    "                        '5D(c)(1)',\n",
    "                        '5D(c)(2)',\n",
    "                        '5D(c)(3)',\n",
    "                        '5D(d)(1)',\n",
    "                        '5D(d)(3)',\n",
    "                        '5D(e)(1)',\n",
    "                        '5D(e)(3)',\n",
    "                        '5D(f)(1)',\n",
    "                        '5D(f)(3)',\n",
    "                        '5D(g)(1)',\n",
    "                        '5D(g)(2)',\n",
    "                        '5D(g)(3)',\n",
    "                        '5D(h)(1)',\n",
    "                        '5D(h)(2)',\n",
    "                        '5D(h)(3)',\n",
    "                        '5D(i)(1)',\n",
    "                        '5D(i)(2)',\n",
    "                        '5D(i)(3)',\n",
    "                        '5D(j)(1)',\n",
    "                        '5D(j)(2)',\n",
    "                        '5D(j)(3)',\n",
    "                        '5D(k)(1)',\n",
    "                        '5D(k)(2)',\n",
    "                        '5D(k)(3)',\n",
    "                        '5D(l)(1)',\n",
    "                        '5D(l)(2)',\n",
    "                        '5D(l)(3)',\n",
    "                        '5D(m)(1)',\n",
    "                        '5D(m)(2)',\n",
    "                        '5D(m)(3)',\n",
    "                        '5D(n)(1)',\n",
    "                        '5D(n)(2)',\n",
    "                        '5D(n)(3)',\n",
    "                        'Total AUM',\n",
    "                        '5E(1)',\n",
    "                        '5E(2)',\n",
    "                        '5E(3)',\n",
    "                        '5E(4)',\n",
    "                        '5E(5)',\n",
    "                        '5E(6)',\n",
    "                        '5E(7)',\n",
    "                        '5G(1)',\n",
    "                        '5I(1)',\n",
    "                        '6A(1)',\n",
    "                        '7A(9)',\n",
    "                        'Total AUM']]  \n",
    "\n"
   ]
  },
  {
   "cell_type": "code",
   "execution_count": 70,
   "metadata": {},
   "outputs": [],
   "source": [
    "#skimmed_columns "
   ]
  },
  {
   "cell_type": "code",
   "execution_count": 71,
   "metadata": {},
   "outputs": [],
   "source": [
    "columns_renamed = skimmed_columns.rename(index=str, columns={'Total number of offices, other than your Principal Office and place of business':'Total Number of Offices Other Than Main Office',\n",
    "                        'Website Address':'Website',\n",
    "                        '1O':'$1 Billion Dollars or More in Assets in Last Fiscal Year', \n",
    "                        '2A(1)':'$100 Million Dollars or More Under Manangement', \n",
    "                        '3A':'Class of RIA Organization',\n",
    "                        '5A':'Number of Employees Full Time and Part Time',\n",
    "                        '5B(1)':'Number of  Employees Who Perform Investment Advisory Functions or Research',\n",
    "                        '5B(2)':'Number of Employees Registered as a Representative of a Broker-Dealer',\n",
    "                        '5B(5)':'Number of Employees that are Licensed Agents of an Insurance Company or Agency',\n",
    "                        '5B(6)':'Number of Firms or Persons that Solicit Advisory Clients on this RIA’s Behalf',\n",
    "                        '5D(a)(1)':'Number of clients (Individuals)',\n",
    "                        '5D(a)(2)':'Fewer than 5 clients (Individuals)',\n",
    "                        '5D(a)(3)':'AUM (Individuals)',\n",
    "                        '5D(b)(1)':'Number of clients (High Net Worth Individuals)',\n",
    "                        '5D(b)(2)':'Fewer than 5 clients (High Net Worth Individuals)',\n",
    "                        '5D(b)(3)':'AUM (High Net Worth Individuals)',\n",
    "                        '5D(c)(1)':'Number of clients (Banking or Thrift Institutions)',\n",
    "                        '5D(c)(2)':'Fewer than 5 clients (Banking or Thrift Institutions)',\n",
    "                        '5D(c)(3)':'AUM (Banking or Thrift Institutions)',\n",
    "                        '5D(d)(1)':'Number of clients (Investment Companies)',\n",
    "                        '5D(d)(3)':'AUM (Investment Companies)',\n",
    "                        '5D(e)(1)':'Number of clients (Business Development Companies)',\n",
    "                        '5D(e)(3)':'AUM (Business Development Companies)',\n",
    "                        '5D(f)(1)':'Number of clients (Pooled Investment Vehicles)',\n",
    "                        '5D(f)(3)':'AUM (Pooled Investment Vehicles)',\n",
    "                        '5D(g)(1)':'Number of clients (Pension and Profit Sharing Plans)',\n",
    "                        '5D(g)(2)':'Fewer than 5 clients (Pension and Profit Sharing Plans)',\n",
    "                        '5D(g)(3)':'AUM (Pension and Profit Sharing Plans)',\n",
    "                        '5D(h)(1)':'Number of clients (Charitable Organizations)',\n",
    "                        '5D(h)(2)':'Fewer than 5 clients (Charitable Organizations)',\n",
    "                        '5D(h)(3)':'AUM (Charitable Organizations)',\n",
    "                        '5D(i)(1)':'Number of clients (State or Municipal Government Entities)',\n",
    "                        '5D(i)(2)':'Fewer than 5 clients (State or Municipal Government Entities)',\n",
    "                        '5D(i)(3)':'AUM (State or Municipal Government Entities)',\n",
    "                        '5D(j)(1)':'Number of clients (Other Investment Advisers)',\n",
    "                        '5D(j)(2)':'Fewer than 5 clients (Other Investment Advisers)',\n",
    "                        '5D(j)(3)':'AUM (Other Investment Advisers)',\n",
    "                        '5D(k)(1)':'Number of clients (Insurance Companies)',\n",
    "                        '5D(k)(2)':'Fewer than 5 clients (Insurance Companies)',\n",
    "                        '5D(k)(3)':'AUM (Insurance Companies)',\n",
    "                        '5D(l)(1)':'Number of clients (Sovereign Wealth Funds and Foreign Official Institutions)',\n",
    "                        '5D(l)(2)':'Fewer than 5 clients (Sovereign Wealth Funds and Foreign Official Institutions)',\n",
    "                        '5D(l)(3)':'AUM (Sovereign Wealth Funds and Foreign Official Institutions)',\n",
    "                        '5D(m)(1)':'Number of clients (Other Type of Corporation or Business)', \n",
    "                        '5D(m)(2)':'Fewer than 5 clients (Other Type of Corporation or Business)',\n",
    "                        '5D(m)(3)':'AUM (Other Type of Corporation or Business)',\n",
    "                        '5D(n)(1)':'Number of clients (Other)',\n",
    "                        '5D(n)(2)':'Fewer than 5 clients (Other)',\n",
    "                        '5D(n)(3)':'AUM (Other)',\n",
    "                        '5E(1)':'Compensated by Percentage of AUM',\n",
    "                        '5E(2)':'Compensated by Hourly Charges',\n",
    "                        '5E(3)':'Compensated by Subscription Fees via Newsletter or Periodical', \n",
    "                        '5E(4)':'Compensated by Fixed Fees Other than Subscription',\n",
    "                        '5E(5)':'Compensated by Commissions',\n",
    "                        '5E(6)':'Compensated by Performance-Based Fees',\n",
    "                        '5E(7)':'Other',\n",
    "                        '5G(1)':'Renders Financial Planning Services',\n",
    "                        '5I(1)':'Participates in Wrap Fee Program',\n",
    "                        '6A(1)':'Actively Engaged in Business as a Trust Company',\n",
    "                        '7A(9)':'Has Advisory Affiliates Engaged in Business as a Trust Company'}) "
   ]
  },
  {
   "cell_type": "code",
   "execution_count": 72,
   "metadata": {},
   "outputs": [],
   "source": [
    "#columns_renamed"
   ]
  },
  {
   "cell_type": "code",
   "execution_count": 73,
   "metadata": {},
   "outputs": [],
   "source": [
    "columns_renamed.loc[columns_renamed['Main Office Street Address 2'].isnull(), 'Main Office Street Address 2'] = ''\n",
    "\n",
    "\n",
    "columns_renamed['Main Office Street Address'] = columns_renamed[\"Main Office Street Address 1\"].map(str) + ' ' + columns_renamed[\"Main Office Street Address 2\"].map(str)\n",
    "\n",
    "\n",
    "\n",
    "\n",
    "\n",
    "\n"
   ]
  },
  {
   "cell_type": "code",
   "execution_count": 74,
   "metadata": {},
   "outputs": [],
   "source": [
    "\n",
    "columns_renamed.drop('Main Office Street Address 1', axis=1, inplace=True)\n",
    "columns_renamed.drop('Main Office Street Address 2', axis=1, inplace=True)"
   ]
  },
  {
   "cell_type": "code",
   "execution_count": 75,
   "metadata": {},
   "outputs": [],
   "source": [
    "columns_renamed\n",
    "cols = columns_renamed.columns.tolist()\n",
    "column_to_move = \"Main Office Street Address\"\n",
    "new_position = 2\n",
    "\n",
    "cols.insert(new_position, cols.pop(cols.index(column_to_move)))\n",
    "columns_renamed = columns_renamed[cols] \n",
    "\n",
    "\n",
    "\n",
    "\n",
    "\n",
    "\n"
   ]
  },
  {
   "cell_type": "code",
   "execution_count": 76,
   "metadata": {},
   "outputs": [],
   "source": [
    "#columns_renamed"
   ]
  },
  {
   "cell_type": "code",
   "execution_count": 77,
   "metadata": {},
   "outputs": [],
   "source": [
    "columns_renamed['Main Office Street Address'] = columns_renamed['Main Office Street Address'].map(str).map(lambda x: x.strip())\n",
    "columns_renamed['Main Office City'] = columns_renamed['Main Office City'].map(str).map(lambda x: x.strip())\n",
    "columns_renamed['Main Office State'] = columns_renamed['Main Office State'].map(str).map(lambda x: x.strip())\n",
    "columns_renamed['Main Office Country'] = columns_renamed['Main Office Country'].map(str).map(lambda x: x.strip())\n",
    "   \n",
    "\n"
   ]
  },
  {
   "cell_type": "code",
   "execution_count": 78,
   "metadata": {},
   "outputs": [],
   "source": [
    "#columns_renamed"
   ]
  },
  {
   "cell_type": "code",
   "execution_count": 79,
   "metadata": {},
   "outputs": [],
   "source": [
    "columns_renamed['Main Office Street Address Formatted'] = columns_renamed[\"Main Office Street Address\"].map(str) + ', ' + columns_renamed[\"Main Office City\"].map(str) + ', ' + columns_renamed[\"Main Office State\"].map(str) + ', ' + columns_renamed[\"Main Office Country\"].map(str)\n",
    "\n",
    "\n",
    "\n"
   ]
  },
  {
   "cell_type": "code",
   "execution_count": 80,
   "metadata": {},
   "outputs": [],
   "source": [
    "#columns_renamed"
   ]
  },
  {
   "cell_type": "code",
   "execution_count": 81,
   "metadata": {},
   "outputs": [],
   "source": [
    "columns_renamed\n",
    "cols = columns_renamed.columns.tolist()\n",
    "column_to_move = \"Main Office Street Address Formatted\"\n",
    "new_position = 2\n",
    "\n",
    "cols.insert(new_position, cols.pop(cols.index(column_to_move)))\n",
    "columns_renamed = columns_renamed[cols] "
   ]
  },
  {
   "cell_type": "code",
   "execution_count": 82,
   "metadata": {},
   "outputs": [],
   "source": [
    "#columns_renamed"
   ]
  },
  {
   "cell_type": "code",
   "execution_count": 83,
   "metadata": {},
   "outputs": [],
   "source": [
    "columns_renamed['Main Office Street Address Formatted'] = columns_renamed['Main Office Street Address Formatted'].str.upper()"
   ]
  },
  {
   "cell_type": "code",
   "execution_count": 84,
   "metadata": {},
   "outputs": [],
   "source": [
    "#columns_renamed"
   ]
  },
  {
   "cell_type": "code",
   "execution_count": 85,
   "metadata": {},
   "outputs": [],
   "source": [
    "columns_renamed = columns_renamed.loc[:,~columns_renamed.columns.duplicated()]"
   ]
  },
  {
   "cell_type": "code",
   "execution_count": 86,
   "metadata": {},
   "outputs": [],
   "source": [
    "#columns_renamed"
   ]
  },
  {
   "cell_type": "code",
   "execution_count": 87,
   "metadata": {},
   "outputs": [],
   "source": [
    "#columns_renamed['Total AUM'] = columns_renamed['Total AUM'].map('{:,.2f}'.format) \n",
    "\n"
   ]
  },
  {
   "cell_type": "code",
   "execution_count": 88,
   "metadata": {},
   "outputs": [],
   "source": [
    "#columns_renamed"
   ]
  },
  {
   "cell_type": "code",
   "execution_count": 89,
   "metadata": {},
   "outputs": [],
   "source": [
    "#columns_renamed['Total AUM'] = columns_renamed['Total AUM'].map(float).map(lambda x: x.strip())\n",
    "columns_renamed.dtypes\n",
    "columns_renamed[\"Total AUM\"] = columns_renamed['Total AUM'].astype(float)"
   ]
  },
  {
   "cell_type": "code",
   "execution_count": 90,
   "metadata": {},
   "outputs": [],
   "source": [
    "columns_renamed = columns_renamed.sort_values('Total AUM', ascending=False) "
   ]
  },
  {
   "cell_type": "code",
   "execution_count": 91,
   "metadata": {},
   "outputs": [],
   "source": [
    "#columns_renamed"
   ]
  },
  {
   "cell_type": "code",
   "execution_count": 92,
   "metadata": {},
   "outputs": [],
   "source": [
    "columns_renamed = columns_renamed.reset_index()"
   ]
  },
  {
   "cell_type": "code",
   "execution_count": 93,
   "metadata": {},
   "outputs": [],
   "source": [
    "columns_renamed\n",
    "del columns_renamed['index']"
   ]
  },
  {
   "cell_type": "code",
   "execution_count": 94,
   "metadata": {},
   "outputs": [],
   "source": [
    "#columns_renamed"
   ]
  },
  {
   "cell_type": "code",
   "execution_count": 95,
   "metadata": {},
   "outputs": [],
   "source": [
    "columns_renamed[\"National Rank\"] = columns_renamed[\"Total AUM\"].rank(ascending=False) "
   ]
  },
  {
   "cell_type": "code",
   "execution_count": 96,
   "metadata": {},
   "outputs": [],
   "source": [
    "#columns_renamed"
   ]
  },
  {
   "cell_type": "code",
   "execution_count": 97,
   "metadata": {},
   "outputs": [],
   "source": [
    "del columns_renamed['Fewer than 5 clients (Individuals)']\n",
    "del columns_renamed['Fewer than 5 clients (High Net Worth Individuals)']\n",
    "del columns_renamed['Fewer than 5 clients (Banking or Thrift Institutions)']\n",
    "del columns_renamed['Fewer than 5 clients (Pension and Profit Sharing Plans)']\n",
    "del columns_renamed['Fewer than 5 clients (Charitable Organizations)']\n",
    "del columns_renamed['Fewer than 5 clients (State or Municipal Government Entities)']\n",
    "del columns_renamed['Fewer than 5 clients (Other Investment Advisers)'] \n",
    "del columns_renamed['Fewer than 5 clients (Insurance Companies)']\n",
    "del columns_renamed['Fewer than 5 clients (Sovereign Wealth Funds and Foreign Official Institutions)']\n",
    "del columns_renamed['Fewer than 5 clients (Other Type of Corporation or Business)']\n",
    "del columns_renamed['Fewer than 5 clients (Other)']  "
   ]
  },
  {
   "cell_type": "code",
   "execution_count": 98,
   "metadata": {},
   "outputs": [],
   "source": [
    "#columns_renamed"
   ]
  },
  {
   "cell_type": "code",
   "execution_count": 99,
   "metadata": {},
   "outputs": [],
   "source": [
    "columns_renamed.loc[columns_renamed['Number of clients (Individuals)'].isnull(), 'Number of clients (Individuals)'] = 0 \n",
    "columns_renamed.loc[columns_renamed['Number of clients (High Net Worth Individuals)'].isnull(), 'Number of clients (High Net Worth Individuals)'] = 0 \n",
    "columns_renamed.loc[columns_renamed['Number of clients (Banking or Thrift Institutions)'].isnull(), 'Number of clients (Banking or Thrift Institutions)'] = 0 \n",
    "columns_renamed.loc[columns_renamed['Number of clients (Investment Companies)'].isnull(), 'Number of clients (Investment Companies)'] = 0 \n",
    "columns_renamed.loc[columns_renamed['Number of clients (Business Development Companies)'].isnull(), 'Number of clients (Business Development Companies)'] = 0 \n",
    "columns_renamed.loc[columns_renamed['Number of clients (Pooled Investment Vehicles)'].isnull(), 'Number of clients (Pooled Investment Vehicles)'] = 0 \n",
    "columns_renamed.loc[columns_renamed['Number of clients (Pension and Profit Sharing Plans)'].isnull(), 'Number of clients (Pension and Profit Sharing Plans)'] = 0 \n",
    "columns_renamed.loc[columns_renamed['Number of clients (Charitable Organizations)'].isnull(), 'Number of clients (Charitable Organizations)'] = 0 \n",
    "columns_renamed.loc[columns_renamed['Number of clients (State or Municipal Government Entities)'].isnull(), 'Number of clients (State or Municipal Government Entities)'] = 0 \n",
    "columns_renamed.loc[columns_renamed['Number of clients (Other Investment Advisers)'].isnull(), 'Number of clients (Other Investment Advisers)'] = 0 \n",
    "columns_renamed.loc[columns_renamed['Number of clients (Insurance Companies)'].isnull(), 'Number of clients (Insurance Companies)'] = 0 \n",
    "columns_renamed.loc[columns_renamed['Number of clients (Sovereign Wealth Funds and Foreign Official Institutions)'].isnull(), 'Number of clients (Sovereign Wealth Funds and Foreign Official Institutions)'] = 0 \n",
    "columns_renamed.loc[columns_renamed['Number of clients (Other Type of Corporation or Business)'].isnull(), 'Number of clients (Other Type of Corporation or Business)'] = 0  \n",
    "columns_renamed.loc[columns_renamed['Number of clients (Other)'].isnull(), 'Number of clients (Other)'] = 0 \n"
   ]
  },
  {
   "cell_type": "code",
   "execution_count": 100,
   "metadata": {},
   "outputs": [],
   "source": [
    "#columns_renamed"
   ]
  },
  {
   "cell_type": "code",
   "execution_count": 101,
   "metadata": {},
   "outputs": [],
   "source": [
    "all_clients = columns_renamed[['Number of clients (Individuals)','Number of clients (High Net Worth Individuals)',\n",
    "             'Number of clients (Banking or Thrift Institutions)','Number of clients (Investment Companies)',\n",
    "             'Number of clients (Business Development Companies)','Number of clients (Pooled Investment Vehicles)',\n",
    "             'Number of clients (Pension and Profit Sharing Plans)','Number of clients (Charitable Organizations)',\n",
    "             'Number of clients (State or Municipal Government Entities)','Number of clients (Other Investment Advisers)',\n",
    "             'Number of clients (Insurance Companies)','Number of clients (Sovereign Wealth Funds and Foreign Official Institutions)',\n",
    "             'Number of clients (Other Type of Corporation or Business)','Number of clients (Other)']] "
   ]
  },
  {
   "cell_type": "code",
   "execution_count": 102,
   "metadata": {},
   "outputs": [],
   "source": [
    "columns_renamed['Total Clients'] = all_clients.select_dtypes(float).sum(1)"
   ]
  },
  {
   "cell_type": "code",
   "execution_count": 103,
   "metadata": {},
   "outputs": [],
   "source": [
    "columns_renamed['Average Account AUM'] = columns_renamed['Total AUM'] / columns_renamed['Total Clients'] "
   ]
  },
  {
   "cell_type": "code",
   "execution_count": 104,
   "metadata": {},
   "outputs": [],
   "source": [
    "#columns_renamed"
   ]
  },
  {
   "cell_type": "code",
   "execution_count": null,
   "metadata": {},
   "outputs": [],
   "source": []
  },
  {
   "cell_type": "code",
   "execution_count": 105,
   "metadata": {},
   "outputs": [],
   "source": [
    "co_sec_data = columns_renamed.loc[columns_renamed['Main Office State'] == 'CO'] "
   ]
  },
  {
   "cell_type": "code",
   "execution_count": 106,
   "metadata": {},
   "outputs": [],
   "source": [
    "al_sec_data = columns_renamed.loc[columns_renamed['Main Office State'] == 'AL'] "
   ]
  },
  {
   "cell_type": "code",
   "execution_count": 107,
   "metadata": {},
   "outputs": [],
   "source": [
    "al_sec_data = al_sec_data.reset_index() "
   ]
  },
  {
   "cell_type": "code",
   "execution_count": 108,
   "metadata": {},
   "outputs": [],
   "source": [
    "co_sec_data = co_sec_data.reset_index() \n"
   ]
  },
  {
   "cell_type": "code",
   "execution_count": 109,
   "metadata": {},
   "outputs": [],
   "source": [
    "del co_sec_data['index']\n",
    "del al_sec_data['index'] "
   ]
  },
  {
   "cell_type": "code",
   "execution_count": 110,
   "metadata": {},
   "outputs": [],
   "source": [
    "co_sec_data[\"State Rank (Based on Total AUM)\"] = co_sec_data[\"Total AUM\"].rank(ascending=False)  "
   ]
  },
  {
   "cell_type": "code",
   "execution_count": 111,
   "metadata": {},
   "outputs": [],
   "source": [
    "pd.set_option('display.max_rows',262)\n"
   ]
  },
  {
   "cell_type": "code",
   "execution_count": 115,
   "metadata": {},
   "outputs": [],
   "source": [
    "#co_sec_data"
   ]
  },
  {
   "cell_type": "code",
   "execution_count": 113,
   "metadata": {},
   "outputs": [],
   "source": [
    "co_sec_data.to_csv('co_sec_data')"
   ]
  },
  {
   "cell_type": "code",
   "execution_count": 114,
   "metadata": {},
   "outputs": [],
   "source": [
    "co_sec_data.to_json('co_sec_data.json', orient='records', lines=True) "
   ]
  },
  {
   "cell_type": "code",
   "execution_count": null,
   "metadata": {},
   "outputs": [],
   "source": []
  }
 ],
 "metadata": {
  "kernelspec": {
   "display_name": "Python [conda env:PythonData]",
   "language": "python",
   "name": "conda-env-PythonData-py"
  },
  "language_info": {
   "codemirror_mode": {
    "name": "ipython",
    "version": 3
   },
   "file_extension": ".py",
   "mimetype": "text/x-python",
   "name": "python",
   "nbconvert_exporter": "python",
   "pygments_lexer": "ipython3",
   "version": "3.6.7"
  }
 },
 "nbformat": 4,
 "nbformat_minor": 2
}
